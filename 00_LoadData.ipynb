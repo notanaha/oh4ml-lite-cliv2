{
 "cells": [
  {
   "cell_type": "code",
   "execution_count": null,
   "id": "f9c3cc96",
   "metadata": {},
   "outputs": [],
   "source": [
    "from zipfile import ZipFile\n",
    "import os, requests\n",
    "import pandas as pd\n",
    "\n",
    "from azure.ai.ml import MLClient\n",
    "from azure.ai.ml.entities import Data\n",
    "from azure.identity import DefaultAzureCredential\n",
    "from azure.ai.ml.constants import AssetTypes"
   ]
  },
  {
   "cell_type": "code",
   "execution_count": null,
   "id": "b773bcc1",
   "metadata": {},
   "outputs": [],
   "source": [
    "# Need config.json file in the same folder\n",
    "from azure.ai.ml import MLClient\n",
    "from azure.identity import DefaultAzureCredential\n",
    "ml_client = MLClient.from_config(credential=DefaultAzureCredential(exclude_shared_token_cache_credential=True),\n",
    "                     logging_enable=True)"
   ]
  },
  {
   "cell_type": "markdown",
   "id": "13b25b3c",
   "metadata": {},
   "source": [
    "### Download Data"
   ]
  },
  {
   "cell_type": "code",
   "execution_count": null,
   "id": "e5ab3a8c",
   "metadata": {},
   "outputs": [],
   "source": [
    "os.makedirs('./data', exist_ok=True)\n",
    "\n",
    "url = 'https://github.com/asherif844/MLOps/raw/master/data/AdventureWorks-oltp-install-script.zip'\n",
    "zip_data = requests.get(url)\n",
    "\n",
    "with open('./data/adventureworks.zip', 'wb') as f:\n",
    "    f.write(zip_data.content)\n",
    "\n",
    "with ZipFile('./data/adventureworks.zip', 'r') as fzip:\n",
    "    fzip.extractall('./data/csv_data')"
   ]
  },
  {
   "cell_type": "markdown",
   "id": "f62ef879",
   "metadata": {},
   "source": [
    "### Transform Data"
   ]
  },
  {
   "cell_type": "code",
   "execution_count": null,
   "id": "e76b821c",
   "metadata": {},
   "outputs": [],
   "source": [
    "header = ['TransactionID', 'ProductID', 'ReferenceOrderID', 'ReferenceOrderLineID', 'TransactionDate', 'TransactionType', 'Quantity', 'ActualCost', 'ModifiedDate']\n",
    "\n",
    "trans_hist_df = pd.read_csv('./data/csv_data/TransactionHistory.csv', sep='\\t', names=header)\n",
    "\n",
    "trans_hist_df['PaidAmount'] = trans_hist_df['Quantity'] * trans_hist_df['ActualCost']\n",
    "trans_hist_df['TransactionDate'] = pd.to_datetime(trans_hist_df['TransactionDate'])\n",
    "df = trans_hist_df[['TransactionDate', 'PaidAmount']]\n",
    "df.set_index('TransactionDate',inplace=True)\n",
    "\n",
    "df = df.resample('D').mean().interpolate()\n",
    "df = df['2013-07':'2014-05']\n",
    "df1 = df['2013']\n",
    "df2 = df['2014']\n",
    "\n",
    "df.to_csv('./data/mlops_forecast_data.csv', index=True, header=True)\n",
    "df1.to_csv('./data/mlops_forecast_data2013.csv', index=True, header=True)\n",
    "df2.to_csv('./data/mlops_forecast_data2014.csv', index=True, header=True)"
   ]
  },
  {
   "cell_type": "markdown",
   "id": "6c5daabd",
   "metadata": {},
   "source": [
    "### Upload data"
   ]
  },
  {
   "cell_type": "code",
   "execution_count": null,
   "id": "7927081f",
   "metadata": {},
   "outputs": [],
   "source": [
    "transaction_ts = \"azureml://datastores/demostore/paths/mlops_timeseries2/mlops_forecast_data.csv\"\n",
    "transaction_ts2013 = \"azureml://datastores/demostore/paths/mlops_timeseries2/mlops_forecast_data2013.csv\"\n",
    "transaction_ts2014 = \"azureml://datastores/demostore/paths/mlops_timeseries2/mlops_forecast_data2014.csv\""
   ]
  },
  {
   "cell_type": "code",
   "execution_count": null,
   "id": "268c3108",
   "metadata": {},
   "outputs": [],
   "source": [
    "data = Data(\n",
    "    path = \"./data/mlops_forecast_data.csv\",\n",
    "    type = AssetTypes.URI_FILE,\n",
    "    description = \"time series dataset for mlops\",\n",
    "    name = \"transaction2_ts\",\n",
    "    version = '1'\n",
    ")\n",
    "\n",
    "ml_client.data.create_or_update(data)"
   ]
  },
  {
   "cell_type": "code",
   "execution_count": null,
   "id": "a8c35b5a",
   "metadata": {},
   "outputs": [],
   "source": [
    "data = Data(\n",
    "    path = \"./data/mlops_forecast_data2013.csv\",\n",
    "    type = AssetTypes.URI_FILE,\n",
    "    description = \"2013 time series dataset for mlops\",\n",
    "    name = \"transaction2_ts2013\",\n",
    "    version = '1'\n",
    ")\n",
    "\n",
    "ml_client.data.create_or_update(data)"
   ]
  },
  {
   "cell_type": "code",
   "execution_count": null,
   "id": "ad0b2a3c",
   "metadata": {},
   "outputs": [],
   "source": [
    "data = Data(\n",
    "    path = \"./data/mlops_forecast_data2014.csv\",\n",
    "    type = AssetTypes.URI_FILE,\n",
    "    description = \"2014 time series dataset for mlops\",\n",
    "    name = \"transaction2_ts2014\",\n",
    "    version = '1'\n",
    ")\n",
    "\n",
    "ml_client.data.create_or_update(data)"
   ]
  }
 ],
 "metadata": {
  "kernelspec": {
   "display_name": "Python 3.8.13 ('rai_env')",
   "language": "python",
   "name": "python3"
  },
  "language_info": {
   "codemirror_mode": {
    "name": "ipython",
    "version": 3
   },
   "file_extension": ".py",
   "mimetype": "text/x-python",
   "name": "python",
   "nbconvert_exporter": "python",
   "pygments_lexer": "ipython3",
   "version": "3.8.13"
  },
  "vscode": {
   "interpreter": {
    "hash": "95c92f22eb039c198be28a817ef0492b443c1de487f29de9a28a20d407bab9f0"
   }
  }
 },
 "nbformat": 4,
 "nbformat_minor": 5
}
